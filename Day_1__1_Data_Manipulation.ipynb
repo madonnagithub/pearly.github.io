{
  "nbformat": 4,
  "nbformat_minor": 0,
  "metadata": {
    "colab": {
      "name": "Day 1 _1 - Data Manipulation.ipynb",
      "provenance": [],
      "collapsed_sections": [],
      "include_colab_link": true
    },
    "kernelspec": {
      "name": "python3",
      "display_name": "Python 3"
    }
  },
  "cells": [
    {
      "cell_type": "markdown",
      "metadata": {
        "id": "view-in-github",
        "colab_type": "text"
      },
      "source": [
        "<a href=\"https://colab.research.google.com/github/madonnagithub/pearly.github.io/blob/master/Day_1__1_Data_Manipulation.ipynb\" target=\"_parent\"><img src=\"https://colab.research.google.com/assets/colab-badge.svg\" alt=\"Open In Colab\"/></a>"
      ]
    },
    {
      "cell_type": "code",
      "metadata": {
        "id": "lEz6ym_6bu-U",
        "colab_type": "code",
        "colab": {}
      },
      "source": [
        "###### Numpy Basics"
      ],
      "execution_count": 0,
      "outputs": []
    },
    {
      "cell_type": "code",
      "metadata": {
        "id": "tZnQbrS0d1Rc",
        "colab_type": "code",
        "colab": {}
      },
      "source": [
        "#### Shift + Enter - Execute the code and add new Cell"
      ],
      "execution_count": 0,
      "outputs": []
    },
    {
      "cell_type": "code",
      "metadata": {
        "id": "mLiSUCECeGuE",
        "colab_type": "code",
        "colab": {}
      },
      "source": [
        "import numpy as np"
      ],
      "execution_count": 0,
      "outputs": []
    },
    {
      "cell_type": "code",
      "metadata": {
        "id": "372hESjceQgN",
        "colab_type": "code",
        "outputId": "fad5a123-a031-481c-b336-dfc8e1595455",
        "colab": {
          "base_uri": "https://localhost:8080/",
          "height": 34
        }
      },
      "source": [
        "##### Create an array using numpy (1 D)\n",
        "a1 = np.array([1,2,3,4,55,6,7,8,10])\n",
        "a1"
      ],
      "execution_count": 0,
      "outputs": [
        {
          "output_type": "execute_result",
          "data": {
            "text/plain": [
              "array([ 1,  2,  3,  4, 55,  6,  7,  8, 10])"
            ]
          },
          "metadata": {
            "tags": []
          },
          "execution_count": 4
        }
      ]
    },
    {
      "cell_type": "code",
      "metadata": {
        "id": "I_gmRrr7fESp",
        "colab_type": "code",
        "outputId": "d487b3c5-6c45-4686-d054-cad29744491c",
        "colab": {
          "base_uri": "https://localhost:8080/",
          "height": 67
        }
      },
      "source": [
        "##### Create an array using numpy (2 D)\n",
        "a2 = np.array([[1,2,3,4],[5,6,7,8],[8,9,10,11]])\n",
        "a2"
      ],
      "execution_count": 0,
      "outputs": [
        {
          "output_type": "execute_result",
          "data": {
            "text/plain": [
              "array([[ 1,  2,  3,  4],\n",
              "       [ 5,  6,  7,  8],\n",
              "       [ 8,  9, 10, 11]])"
            ]
          },
          "metadata": {
            "tags": []
          },
          "execution_count": 7
        }
      ]
    },
    {
      "cell_type": "code",
      "metadata": {
        "id": "my1aBvo0fd8o",
        "colab_type": "code",
        "outputId": "59a62d47-ccc4-42bd-dc99-b5d0ed663023",
        "colab": {
          "base_uri": "https://localhost:8080/",
          "height": 34
        }
      },
      "source": [
        "a2.shape  ##(no. of rows,no.of cols)"
      ],
      "execution_count": 0,
      "outputs": [
        {
          "output_type": "execute_result",
          "data": {
            "text/plain": [
              "(3, 4)"
            ]
          },
          "metadata": {
            "tags": []
          },
          "execution_count": 8
        }
      ]
    },
    {
      "cell_type": "code",
      "metadata": {
        "id": "t6Dqdw01f_-3",
        "colab_type": "code",
        "outputId": "1312a127-3b9a-442b-9b1f-b301ff3b060b",
        "colab": {
          "base_uri": "https://localhost:8080/",
          "height": 34
        }
      },
      "source": [
        "a2.ndim"
      ],
      "execution_count": 0,
      "outputs": [
        {
          "output_type": "execute_result",
          "data": {
            "text/plain": [
              "2"
            ]
          },
          "metadata": {
            "tags": []
          },
          "execution_count": 10
        }
      ]
    },
    {
      "cell_type": "code",
      "metadata": {
        "id": "0HftTQGAgNTz",
        "colab_type": "code",
        "outputId": "b41eac60-83c9-4900-c9cd-253e61b357b6",
        "colab": {
          "base_uri": "https://localhost:8080/",
          "height": 34
        }
      },
      "source": [
        "a1.ndim"
      ],
      "execution_count": 0,
      "outputs": [
        {
          "output_type": "execute_result",
          "data": {
            "text/plain": [
              "1"
            ]
          },
          "metadata": {
            "tags": []
          },
          "execution_count": 11
        }
      ]
    },
    {
      "cell_type": "code",
      "metadata": {
        "id": "nRjxDRGcgRgu",
        "colab_type": "code",
        "outputId": "a6efcaf3-3066-4598-c4dc-b5ed1922da26",
        "colab": {
          "base_uri": "https://localhost:8080/",
          "height": 34
        }
      },
      "source": [
        "a1.shape"
      ],
      "execution_count": 0,
      "outputs": [
        {
          "output_type": "execute_result",
          "data": {
            "text/plain": [
              "(9,)"
            ]
          },
          "metadata": {
            "tags": []
          },
          "execution_count": 12
        }
      ]
    },
    {
      "cell_type": "code",
      "metadata": {
        "id": "ozL28zORgsbi",
        "colab_type": "code",
        "outputId": "44c4bbd9-9ca7-4821-ecb8-aa80e8340212",
        "colab": {
          "base_uri": "https://localhost:8080/",
          "height": 34
        }
      },
      "source": [
        "a2.dtype"
      ],
      "execution_count": 0,
      "outputs": [
        {
          "output_type": "execute_result",
          "data": {
            "text/plain": [
              "dtype('int64')"
            ]
          },
          "metadata": {
            "tags": []
          },
          "execution_count": 13
        }
      ]
    },
    {
      "cell_type": "code",
      "metadata": {
        "id": "SlSyZLwqg41C",
        "colab_type": "code",
        "outputId": "4e4063ed-02e1-46b3-d85f-6064778f77e7",
        "colab": {
          "base_uri": "https://localhost:8080/",
          "height": 34
        }
      },
      "source": [
        "a2.size"
      ],
      "execution_count": 0,
      "outputs": [
        {
          "output_type": "execute_result",
          "data": {
            "text/plain": [
              "12"
            ]
          },
          "metadata": {
            "tags": []
          },
          "execution_count": 14
        }
      ]
    },
    {
      "cell_type": "code",
      "metadata": {
        "id": "3bGjxGWwg9ru",
        "colab_type": "code",
        "outputId": "f2678302-a040-468f-c901-a7842cee5d59",
        "colab": {
          "base_uri": "https://localhost:8080/",
          "height": 134
        }
      },
      "source": [
        "##### Create an array using numpy (3 D)\n",
        "a3 = np.array([[[1,2,3,4],[5,6,7,8],[8,9,10,11]],\n",
        "               [[1,2,3,4],[5,6,7,8],[8,9,10,11]]])\n",
        "a3"
      ],
      "execution_count": 0,
      "outputs": [
        {
          "output_type": "execute_result",
          "data": {
            "text/plain": [
              "array([[[ 1,  2,  3,  4],\n",
              "        [ 5,  6,  7,  8],\n",
              "        [ 8,  9, 10, 11]],\n",
              "\n",
              "       [[ 1,  2,  3,  4],\n",
              "        [ 5,  6,  7,  8],\n",
              "        [ 8,  9, 10, 11]]])"
            ]
          },
          "metadata": {
            "tags": []
          },
          "execution_count": 18
        }
      ]
    },
    {
      "cell_type": "code",
      "metadata": {
        "id": "MICd52Ahhb6g",
        "colab_type": "code",
        "outputId": "11954f0e-a94b-4bae-b64c-827464c52095",
        "colab": {
          "base_uri": "https://localhost:8080/",
          "height": 34
        }
      },
      "source": [
        "len(a3)"
      ],
      "execution_count": 0,
      "outputs": [
        {
          "output_type": "execute_result",
          "data": {
            "text/plain": [
              "2"
            ]
          },
          "metadata": {
            "tags": []
          },
          "execution_count": 19
        }
      ]
    },
    {
      "cell_type": "code",
      "metadata": {
        "id": "CFtd2UdXhgTR",
        "colab_type": "code",
        "outputId": "fd4c3c75-be58-406f-e556-104a72af7a1c",
        "colab": {
          "base_uri": "https://localhost:8080/",
          "height": 34
        }
      },
      "source": [
        "len(a2)"
      ],
      "execution_count": 0,
      "outputs": [
        {
          "output_type": "execute_result",
          "data": {
            "text/plain": [
              "3"
            ]
          },
          "metadata": {
            "tags": []
          },
          "execution_count": 17
        }
      ]
    },
    {
      "cell_type": "code",
      "metadata": {
        "id": "hw6U8wCVhiYV",
        "colab_type": "code",
        "outputId": "7482f4d0-7094-4e15-b51e-72b39c7990dc",
        "colab": {
          "base_uri": "https://localhost:8080/",
          "height": 34
        }
      },
      "source": [
        "a3.shape"
      ],
      "execution_count": 0,
      "outputs": [
        {
          "output_type": "execute_result",
          "data": {
            "text/plain": [
              "(2, 3, 4)"
            ]
          },
          "metadata": {
            "tags": []
          },
          "execution_count": 20
        }
      ]
    },
    {
      "cell_type": "code",
      "metadata": {
        "id": "nDxaBPobhtxq",
        "colab_type": "code",
        "outputId": "eb4b41df-91a9-4c80-ccc7-cdb253e8000c",
        "colab": {
          "base_uri": "https://localhost:8080/",
          "height": 50
        }
      },
      "source": [
        "##### Create an array using numpy (3 D)\n",
        "a4 = np.array([[[1,2,3,4],[5,6,7,8],[8,9,10,11]],\n",
        "               [[1,2,3,4],[5,6,7,8]]])\n",
        "a4"
      ],
      "execution_count": 0,
      "outputs": [
        {
          "output_type": "execute_result",
          "data": {
            "text/plain": [
              "array([list([[1, 2, 3, 4], [5, 6, 7, 8], [8, 9, 10, 11]]),\n",
              "       list([[1, 2, 3, 4], [5, 6, 7, 8]])], dtype=object)"
            ]
          },
          "metadata": {
            "tags": []
          },
          "execution_count": 21
        }
      ]
    },
    {
      "cell_type": "code",
      "metadata": {
        "id": "FS99-lJRh94p",
        "colab_type": "code",
        "outputId": "685e7b5f-155e-4165-a57c-896c6c354993",
        "colab": {
          "base_uri": "https://localhost:8080/",
          "height": 34
        }
      },
      "source": [
        "a4.shape"
      ],
      "execution_count": 0,
      "outputs": [
        {
          "output_type": "execute_result",
          "data": {
            "text/plain": [
              "(2,)"
            ]
          },
          "metadata": {
            "tags": []
          },
          "execution_count": 22
        }
      ]
    },
    {
      "cell_type": "code",
      "metadata": {
        "id": "aWBOhlgtiDDC",
        "colab_type": "code",
        "outputId": "bec28dfc-2341-4edd-f1a3-c78e7d008eee",
        "colab": {
          "base_uri": "https://localhost:8080/",
          "height": 134
        }
      },
      "source": [
        "### Picking the element from array\n",
        "a3"
      ],
      "execution_count": 0,
      "outputs": [
        {
          "output_type": "execute_result",
          "data": {
            "text/plain": [
              "array([[[ 1,  2,  3,  4],\n",
              "        [ 5,  6,  7,  8],\n",
              "        [ 8,  9, 10, 11]],\n",
              "\n",
              "       [[ 1,  2,  3,  4],\n",
              "        [ 5,  6,  7,  8],\n",
              "        [ 8,  9, 10, 11]]])"
            ]
          },
          "metadata": {
            "tags": []
          },
          "execution_count": 23
        }
      ]
    },
    {
      "cell_type": "code",
      "metadata": {
        "id": "iyVYKGxbiL4A",
        "colab_type": "code",
        "outputId": "2f8ff93f-1752-4492-b00c-8da965c0708c",
        "colab": {
          "base_uri": "https://localhost:8080/",
          "height": 67
        }
      },
      "source": [
        "a3[0]"
      ],
      "execution_count": 0,
      "outputs": [
        {
          "output_type": "execute_result",
          "data": {
            "text/plain": [
              "array([[ 1,  2,  3,  4],\n",
              "       [ 5,  6,  7,  8],\n",
              "       [ 8,  9, 10, 11]])"
            ]
          },
          "metadata": {
            "tags": []
          },
          "execution_count": 24
        }
      ]
    },
    {
      "cell_type": "code",
      "metadata": {
        "id": "ZSXPYQ-uiWjP",
        "colab_type": "code",
        "outputId": "9fa6bbe9-abe7-4c19-be9e-b9daafd8f14c",
        "colab": {
          "base_uri": "https://localhost:8080/",
          "height": 34
        }
      },
      "source": [
        "a3[0][0]"
      ],
      "execution_count": 0,
      "outputs": [
        {
          "output_type": "execute_result",
          "data": {
            "text/plain": [
              "array([1, 2, 3, 4])"
            ]
          },
          "metadata": {
            "tags": []
          },
          "execution_count": 25
        }
      ]
    },
    {
      "cell_type": "code",
      "metadata": {
        "id": "PtYqCw_Oidwy",
        "colab_type": "code",
        "outputId": "b29e92e7-795c-462a-919b-54cb3eac063c",
        "colab": {
          "base_uri": "https://localhost:8080/",
          "height": 34
        }
      },
      "source": [
        "a3[0][0][2]"
      ],
      "execution_count": 0,
      "outputs": [
        {
          "output_type": "execute_result",
          "data": {
            "text/plain": [
              "3"
            ]
          },
          "metadata": {
            "tags": []
          },
          "execution_count": 26
        }
      ]
    },
    {
      "cell_type": "code",
      "metadata": {
        "id": "qMHy75XaikT9",
        "colab_type": "code",
        "outputId": "011d3e13-de8e-499b-8c0e-09a923081dcd",
        "colab": {
          "base_uri": "https://localhost:8080/",
          "height": 34
        }
      },
      "source": [
        "a3[0,0,2]"
      ],
      "execution_count": 0,
      "outputs": [
        {
          "output_type": "execute_result",
          "data": {
            "text/plain": [
              "3"
            ]
          },
          "metadata": {
            "tags": []
          },
          "execution_count": 27
        }
      ]
    },
    {
      "cell_type": "code",
      "metadata": {
        "id": "ZhROw82vip_a",
        "colab_type": "code",
        "outputId": "bf4d3c6d-b450-42cd-82db-110b6f4bbcb0",
        "colab": {
          "base_uri": "https://localhost:8080/",
          "height": 67
        }
      },
      "source": [
        "a2"
      ],
      "execution_count": 0,
      "outputs": [
        {
          "output_type": "execute_result",
          "data": {
            "text/plain": [
              "array([[ 1,  2,  3,  4],\n",
              "       [ 5,  6,  7,  8],\n",
              "       [ 8,  9, 10, 11]])"
            ]
          },
          "metadata": {
            "tags": []
          },
          "execution_count": 28
        }
      ]
    },
    {
      "cell_type": "code",
      "metadata": {
        "id": "ty8PWuHvi5Dw",
        "colab_type": "code",
        "outputId": "b62e0599-d62b-4411-e4be-9f9b454e2bfa",
        "colab": {
          "base_uri": "https://localhost:8080/",
          "height": 118
        }
      },
      "source": [
        "##### Create an array using numpy (2 D)\n",
        "a5 = np.array([[1,2,3,4],[5,6,7,8],[8,9,10,11],[12,13,14,15],\n",
        "               [80,90,100,110],[85,93,12,11]])\n",
        "a5"
      ],
      "execution_count": 0,
      "outputs": [
        {
          "output_type": "execute_result",
          "data": {
            "text/plain": [
              "array([[  1,   2,   3,   4],\n",
              "       [  5,   6,   7,   8],\n",
              "       [  8,   9,  10,  11],\n",
              "       [ 12,  13,  14,  15],\n",
              "       [ 80,  90, 100, 110],\n",
              "       [ 85,  93,  12,  11]])"
            ]
          },
          "metadata": {
            "tags": []
          },
          "execution_count": 31
        }
      ]
    },
    {
      "cell_type": "code",
      "metadata": {
        "id": "lwLjajZJjDiP",
        "colab_type": "code",
        "outputId": "00719386-c042-4653-fff6-d1256da36cab",
        "colab": {
          "base_uri": "https://localhost:8080/",
          "height": 118
        }
      },
      "source": [
        "a5[:]"
      ],
      "execution_count": 0,
      "outputs": [
        {
          "output_type": "execute_result",
          "data": {
            "text/plain": [
              "array([[  1,   2,   3,   4],\n",
              "       [  5,   6,   7,   8],\n",
              "       [  8,   9,  10,  11],\n",
              "       [ 12,  13,  14,  15],\n",
              "       [ 80,  90, 100, 110],\n",
              "       [ 85,  93,  12,  11]])"
            ]
          },
          "metadata": {
            "tags": []
          },
          "execution_count": 32
        }
      ]
    },
    {
      "cell_type": "code",
      "metadata": {
        "id": "W43atjw9jSki",
        "colab_type": "code",
        "outputId": "1b0a7977-ee11-498a-c0c4-1ebb00914c0e",
        "colab": {
          "base_uri": "https://localhost:8080/",
          "height": 67
        }
      },
      "source": [
        "a5[1:4]   ### print 1st row to 3rd row"
      ],
      "execution_count": 0,
      "outputs": [
        {
          "output_type": "execute_result",
          "data": {
            "text/plain": [
              "array([[ 5,  6,  7,  8],\n",
              "       [ 8,  9, 10, 11],\n",
              "       [12, 13, 14, 15]])"
            ]
          },
          "metadata": {
            "tags": []
          },
          "execution_count": 33
        }
      ]
    },
    {
      "cell_type": "code",
      "metadata": {
        "id": "swfK3fcmjcd0",
        "colab_type": "code",
        "outputId": "a80c2e62-00d5-45ce-b406-eed12326bd61",
        "colab": {
          "base_uri": "https://localhost:8080/",
          "height": 101
        }
      },
      "source": [
        "a5[1:]"
      ],
      "execution_count": 0,
      "outputs": [
        {
          "output_type": "execute_result",
          "data": {
            "text/plain": [
              "array([[  5,   6,   7,   8],\n",
              "       [  8,   9,  10,  11],\n",
              "       [ 12,  13,  14,  15],\n",
              "       [ 80,  90, 100, 110],\n",
              "       [ 85,  93,  12,  11]])"
            ]
          },
          "metadata": {
            "tags": []
          },
          "execution_count": 34
        }
      ]
    },
    {
      "cell_type": "code",
      "metadata": {
        "id": "KxggXVEujhY8",
        "colab_type": "code",
        "outputId": "aa4dd8da-8425-43fc-b0ac-3a07a21e3842",
        "colab": {
          "base_uri": "https://localhost:8080/",
          "height": 34
        }
      },
      "source": [
        "a5[1:,3] "
      ],
      "execution_count": 0,
      "outputs": [
        {
          "output_type": "execute_result",
          "data": {
            "text/plain": [
              "array([  8,  11,  15, 110,  11])"
            ]
          },
          "metadata": {
            "tags": []
          },
          "execution_count": 35
        }
      ]
    },
    {
      "cell_type": "code",
      "metadata": {
        "id": "vXxwZivfjvtb",
        "colab_type": "code",
        "outputId": "3c755863-d602-47dc-feb9-9630f8d5efb6",
        "colab": {
          "base_uri": "https://localhost:8080/",
          "height": 34
        }
      },
      "source": [
        "a5.shape"
      ],
      "execution_count": 0,
      "outputs": [
        {
          "output_type": "execute_result",
          "data": {
            "text/plain": [
              "(6, 4)"
            ]
          },
          "metadata": {
            "tags": []
          },
          "execution_count": 37
        }
      ]
    },
    {
      "cell_type": "code",
      "metadata": {
        "id": "xYLtaHjLj5On",
        "colab_type": "code",
        "outputId": "63d42503-aa9e-4040-c56e-4f7bd89f1b1e",
        "colab": {
          "base_uri": "https://localhost:8080/",
          "height": 67
        }
      },
      "source": [
        "a5.reshape(3,8)    #### (4,6)(12,2)(2,12),(3,8),(8,3)"
      ],
      "execution_count": 0,
      "outputs": [
        {
          "output_type": "execute_result",
          "data": {
            "text/plain": [
              "array([[  1,   2,   3,   4,   5,   6,   7,   8],\n",
              "       [  8,   9,  10,  11,  12,  13,  14,  15],\n",
              "       [ 80,  90, 100, 110,  85,  93,  12,  11]])"
            ]
          },
          "metadata": {
            "tags": []
          },
          "execution_count": 38
        }
      ]
    },
    {
      "cell_type": "code",
      "metadata": {
        "id": "IVjVbmT4kVV2",
        "colab_type": "code",
        "outputId": "8bd3bd31-c863-4971-e495-02632408cada",
        "colab": {
          "base_uri": "https://localhost:8080/",
          "height": 134
        }
      },
      "source": [
        "a5.reshape(2,3,4)"
      ],
      "execution_count": 0,
      "outputs": [
        {
          "output_type": "execute_result",
          "data": {
            "text/plain": [
              "array([[[  1,   2,   3,   4],\n",
              "        [  5,   6,   7,   8],\n",
              "        [  8,   9,  10,  11]],\n",
              "\n",
              "       [[ 12,  13,  14,  15],\n",
              "        [ 80,  90, 100, 110],\n",
              "        [ 85,  93,  12,  11]]])"
            ]
          },
          "metadata": {
            "tags": []
          },
          "execution_count": 40
        }
      ]
    },
    {
      "cell_type": "code",
      "metadata": {
        "id": "_E_uiftUkcU2",
        "colab_type": "code",
        "outputId": "8914a612-443c-48e4-c8e7-4bb4772e36e4",
        "colab": {
          "base_uri": "https://localhost:8080/",
          "height": 118
        }
      },
      "source": [
        "a5"
      ],
      "execution_count": 0,
      "outputs": [
        {
          "output_type": "execute_result",
          "data": {
            "text/plain": [
              "array([[  1,   2,   3,   4],\n",
              "       [  5,   6,   7,   8],\n",
              "       [  8,   9,  10,  11],\n",
              "       [ 12,  13,  14,  15],\n",
              "       [ 80,  90, 100, 110],\n",
              "       [ 85,  93,  12,  11]])"
            ]
          },
          "metadata": {
            "tags": []
          },
          "execution_count": 42
        }
      ]
    },
    {
      "cell_type": "code",
      "metadata": {
        "id": "kvKt9hFxkvIA",
        "colab_type": "code",
        "outputId": "6c1eb292-4935-44e7-df34-ccbb40315cd6",
        "colab": {
          "base_uri": "https://localhost:8080/",
          "height": 34
        }
      },
      "source": [
        "a5.mean()"
      ],
      "execution_count": 0,
      "outputs": [
        {
          "output_type": "execute_result",
          "data": {
            "text/plain": [
              "29.541666666666668"
            ]
          },
          "metadata": {
            "tags": []
          },
          "execution_count": 43
        }
      ]
    },
    {
      "cell_type": "code",
      "metadata": {
        "id": "1oRL-bmgk4T4",
        "colab_type": "code",
        "outputId": "4e17f852-ae3a-41d5-9fdd-873e4b173f26",
        "colab": {
          "base_uri": "https://localhost:8080/",
          "height": 34
        }
      },
      "source": [
        "a5.max()"
      ],
      "execution_count": 0,
      "outputs": [
        {
          "output_type": "execute_result",
          "data": {
            "text/plain": [
              "110"
            ]
          },
          "metadata": {
            "tags": []
          },
          "execution_count": 44
        }
      ]
    },
    {
      "cell_type": "code",
      "metadata": {
        "id": "O5Pz_WMnk9us",
        "colab_type": "code",
        "outputId": "20a5806c-7cb5-460b-bd5b-520066c04401",
        "colab": {
          "base_uri": "https://localhost:8080/",
          "height": 34
        }
      },
      "source": [
        "a5.min()"
      ],
      "execution_count": 0,
      "outputs": [
        {
          "output_type": "execute_result",
          "data": {
            "text/plain": [
              "1"
            ]
          },
          "metadata": {
            "tags": []
          },
          "execution_count": 45
        }
      ]
    },
    {
      "cell_type": "code",
      "metadata": {
        "id": "4fhUDV08lBsq",
        "colab_type": "code",
        "outputId": "6d66371e-56b3-4262-ecd6-6007e58244cd",
        "colab": {
          "base_uri": "https://localhost:8080/",
          "height": 34
        }
      },
      "source": [
        "a5.argmax()"
      ],
      "execution_count": 0,
      "outputs": [
        {
          "output_type": "execute_result",
          "data": {
            "text/plain": [
              "19"
            ]
          },
          "metadata": {
            "tags": []
          },
          "execution_count": 46
        }
      ]
    },
    {
      "cell_type": "code",
      "metadata": {
        "id": "vtaGW9L-lLnv",
        "colab_type": "code",
        "outputId": "48d1ead5-2556-4e47-a647-23ccdb5a11d2",
        "colab": {
          "base_uri": "https://localhost:8080/",
          "height": 34
        }
      },
      "source": [
        "a5.argmin()"
      ],
      "execution_count": 0,
      "outputs": [
        {
          "output_type": "execute_result",
          "data": {
            "text/plain": [
              "0"
            ]
          },
          "metadata": {
            "tags": []
          },
          "execution_count": 47
        }
      ]
    },
    {
      "cell_type": "code",
      "metadata": {
        "id": "Hhqok4NEldLy",
        "colab_type": "code",
        "outputId": "2592bb63-0669-4845-affb-047f0bbf7489",
        "colab": {
          "base_uri": "https://localhost:8080/",
          "height": 34
        }
      },
      "source": [
        "a5.sum()"
      ],
      "execution_count": 0,
      "outputs": [
        {
          "output_type": "execute_result",
          "data": {
            "text/plain": [
              "709"
            ]
          },
          "metadata": {
            "tags": []
          },
          "execution_count": 48
        }
      ]
    },
    {
      "cell_type": "code",
      "metadata": {
        "id": "XIQ8yQcwltqE",
        "colab_type": "code",
        "outputId": "4b786fd4-cac9-4657-94b9-cd191d37b773",
        "colab": {
          "base_uri": "https://localhost:8080/",
          "height": 118
        }
      },
      "source": [
        "a5"
      ],
      "execution_count": 0,
      "outputs": [
        {
          "output_type": "execute_result",
          "data": {
            "text/plain": [
              "array([[  1,   2,   3,   4],\n",
              "       [  5,   6,   7,   8],\n",
              "       [  8,   9,  10,  11],\n",
              "       [ 12,  13,  14,  15],\n",
              "       [ 80,  90, 100, 110],\n",
              "       [ 85,  93,  12,  11]])"
            ]
          },
          "metadata": {
            "tags": []
          },
          "execution_count": 49
        }
      ]
    },
    {
      "cell_type": "code",
      "metadata": {
        "id": "ZPRfh0uamBBT",
        "colab_type": "code",
        "outputId": "15e1afc8-8bb9-444d-db31-cf1b1d400091",
        "colab": {
          "base_uri": "https://localhost:8080/",
          "height": 34
        }
      },
      "source": [
        "a5.sum(axis=1)   ### row wise addition"
      ],
      "execution_count": 0,
      "outputs": [
        {
          "output_type": "execute_result",
          "data": {
            "text/plain": [
              "array([ 10,  26,  38,  54, 380, 201])"
            ]
          },
          "metadata": {
            "tags": []
          },
          "execution_count": 50
        }
      ]
    },
    {
      "cell_type": "code",
      "metadata": {
        "id": "Pe3NailOmIBo",
        "colab_type": "code",
        "outputId": "2932693b-fa8a-486a-d6c4-438d1c80e20f",
        "colab": {
          "base_uri": "https://localhost:8080/",
          "height": 34
        }
      },
      "source": [
        "a5.sum(axis=0)   ### columns wise addition"
      ],
      "execution_count": 0,
      "outputs": [
        {
          "output_type": "execute_result",
          "data": {
            "text/plain": [
              "array([191, 213, 146, 159])"
            ]
          },
          "metadata": {
            "tags": []
          },
          "execution_count": 51
        }
      ]
    },
    {
      "cell_type": "code",
      "metadata": {
        "id": "4tDy5PEYmSX4",
        "colab_type": "code",
        "outputId": "c1e48e27-f25e-43c9-e030-d9b667f22e84",
        "colab": {
          "base_uri": "https://localhost:8080/",
          "height": 118
        }
      },
      "source": [
        "a5"
      ],
      "execution_count": 0,
      "outputs": [
        {
          "output_type": "execute_result",
          "data": {
            "text/plain": [
              "array([[  1,   2,   3,   4],\n",
              "       [  5,   6,   7,   8],\n",
              "       [  8,   9,  10,  11],\n",
              "       [ 12,  13,  14,  15],\n",
              "       [ 80,  90, 100, 110],\n",
              "       [ 85,  93,  12,  11]])"
            ]
          },
          "metadata": {
            "tags": []
          },
          "execution_count": 52
        }
      ]
    },
    {
      "cell_type": "code",
      "metadata": {
        "id": "o_3Glz4VmlLX",
        "colab_type": "code",
        "outputId": "fd4fb818-1156-4f21-ea04-7ddc566301d1",
        "colab": {
          "base_uri": "https://localhost:8080/",
          "height": 34
        }
      },
      "source": [
        "np.where(a5 == 10)"
      ],
      "execution_count": 0,
      "outputs": [
        {
          "output_type": "execute_result",
          "data": {
            "text/plain": [
              "(array([2]), array([2]))"
            ]
          },
          "metadata": {
            "tags": []
          },
          "execution_count": 53
        }
      ]
    },
    {
      "cell_type": "code",
      "metadata": {
        "id": "51CaLqBumprt",
        "colab_type": "code",
        "outputId": "76d1d06f-c0bf-412d-d4d6-c144240e8549",
        "colab": {
          "base_uri": "https://localhost:8080/",
          "height": 101
        }
      },
      "source": [
        "#### Create a zero matrix\n",
        "zero = np.zeros((5,4))\n",
        "zero"
      ],
      "execution_count": 0,
      "outputs": [
        {
          "output_type": "execute_result",
          "data": {
            "text/plain": [
              "array([[0., 0., 0., 0.],\n",
              "       [0., 0., 0., 0.],\n",
              "       [0., 0., 0., 0.],\n",
              "       [0., 0., 0., 0.],\n",
              "       [0., 0., 0., 0.]])"
            ]
          },
          "metadata": {
            "tags": []
          },
          "execution_count": 54
        }
      ]
    },
    {
      "cell_type": "code",
      "metadata": {
        "id": "BAL5uVpNnBi_",
        "colab_type": "code",
        "outputId": "49fa3af3-b887-4732-8d13-176704beaefb",
        "colab": {
          "base_uri": "https://localhost:8080/",
          "height": 101
        }
      },
      "source": [
        "#### Create a ones matrix\n",
        "ones = np.ones((5,4))\n",
        "ones"
      ],
      "execution_count": 0,
      "outputs": [
        {
          "output_type": "execute_result",
          "data": {
            "text/plain": [
              "array([[1., 1., 1., 1.],\n",
              "       [1., 1., 1., 1.],\n",
              "       [1., 1., 1., 1.],\n",
              "       [1., 1., 1., 1.],\n",
              "       [1., 1., 1., 1.]])"
            ]
          },
          "metadata": {
            "tags": []
          },
          "execution_count": 55
        }
      ]
    },
    {
      "cell_type": "code",
      "metadata": {
        "id": "dci5Z5E6nQO0",
        "colab_type": "code",
        "outputId": "c7eeae3d-5b6e-4843-d823-2a523c4b66ff",
        "colab": {
          "base_uri": "https://localhost:8080/",
          "height": 101
        }
      },
      "source": [
        "#### Create a identity matrix\n",
        "i = np.identity(5)\n",
        "i"
      ],
      "execution_count": 0,
      "outputs": [
        {
          "output_type": "execute_result",
          "data": {
            "text/plain": [
              "array([[1., 0., 0., 0., 0.],\n",
              "       [0., 1., 0., 0., 0.],\n",
              "       [0., 0., 1., 0., 0.],\n",
              "       [0., 0., 0., 1., 0.],\n",
              "       [0., 0., 0., 0., 1.]])"
            ]
          },
          "metadata": {
            "tags": []
          },
          "execution_count": 56
        }
      ]
    },
    {
      "cell_type": "code",
      "metadata": {
        "id": "hoRGxdMlnaQX",
        "colab_type": "code",
        "outputId": "ffcc3ee7-671a-4174-b0c8-a83177c9dd9a",
        "colab": {
          "base_uri": "https://localhost:8080/",
          "height": 34
        }
      },
      "source": [
        "zero.dtype"
      ],
      "execution_count": 0,
      "outputs": [
        {
          "output_type": "execute_result",
          "data": {
            "text/plain": [
              "dtype('float64')"
            ]
          },
          "metadata": {
            "tags": []
          },
          "execution_count": 57
        }
      ]
    },
    {
      "cell_type": "code",
      "metadata": {
        "id": "nK1m9iSSngcY",
        "colab_type": "code",
        "outputId": "4c1ed01f-f41f-4ef0-86f0-d0696c785acb",
        "colab": {
          "base_uri": "https://localhost:8080/",
          "height": 235
        }
      },
      "source": [
        "##### Generate some equidistant numbers between a range\n",
        "np.linspace(1,100,50)"
      ],
      "execution_count": 0,
      "outputs": [
        {
          "output_type": "execute_result",
          "data": {
            "text/plain": [
              "array([  1.        ,   3.02040816,   5.04081633,   7.06122449,\n",
              "         9.08163265,  11.10204082,  13.12244898,  15.14285714,\n",
              "        17.16326531,  19.18367347,  21.20408163,  23.2244898 ,\n",
              "        25.24489796,  27.26530612,  29.28571429,  31.30612245,\n",
              "        33.32653061,  35.34693878,  37.36734694,  39.3877551 ,\n",
              "        41.40816327,  43.42857143,  45.44897959,  47.46938776,\n",
              "        49.48979592,  51.51020408,  53.53061224,  55.55102041,\n",
              "        57.57142857,  59.59183673,  61.6122449 ,  63.63265306,\n",
              "        65.65306122,  67.67346939,  69.69387755,  71.71428571,\n",
              "        73.73469388,  75.75510204,  77.7755102 ,  79.79591837,\n",
              "        81.81632653,  83.83673469,  85.85714286,  87.87755102,\n",
              "        89.89795918,  91.91836735,  93.93877551,  95.95918367,\n",
              "        97.97959184, 100.        ])"
            ]
          },
          "metadata": {
            "tags": []
          },
          "execution_count": 58
        }
      ]
    },
    {
      "cell_type": "code",
      "metadata": {
        "id": "vuYWsTnJovn8",
        "colab_type": "code",
        "outputId": "3494c58d-e96c-413d-a7d2-98affd881e97",
        "colab": {
          "base_uri": "https://localhost:8080/",
          "height": 34
        }
      },
      "source": [
        "##### Generate some equidistant numbers between a range\n",
        "np.linspace(1,100,10)"
      ],
      "execution_count": 0,
      "outputs": [
        {
          "output_type": "execute_result",
          "data": {
            "text/plain": [
              "array([  1.,  12.,  23.,  34.,  45.,  56.,  67.,  78.,  89., 100.])"
            ]
          },
          "metadata": {
            "tags": []
          },
          "execution_count": 59
        }
      ]
    },
    {
      "cell_type": "code",
      "metadata": {
        "id": "MT8kVydmpAWm",
        "colab_type": "code",
        "outputId": "9c6f136b-84c7-4e14-d8dd-d3ba122fe5f7",
        "colab": {
          "base_uri": "https://localhost:8080/",
          "height": 67
        }
      },
      "source": [
        "np.arange(1,101,3)"
      ],
      "execution_count": 0,
      "outputs": [
        {
          "output_type": "execute_result",
          "data": {
            "text/plain": [
              "array([  1,   4,   7,  10,  13,  16,  19,  22,  25,  28,  31,  34,  37,\n",
              "        40,  43,  46,  49,  52,  55,  58,  61,  64,  67,  70,  73,  76,\n",
              "        79,  82,  85,  88,  91,  94,  97, 100])"
            ]
          },
          "metadata": {
            "tags": []
          },
          "execution_count": 61
        }
      ]
    },
    {
      "cell_type": "code",
      "metadata": {
        "id": "tvKLESJapiHp",
        "colab_type": "code",
        "outputId": "f4cef8e4-14e1-42cc-9b7a-26907f2c730b",
        "colab": {
          "base_uri": "https://localhost:8080/",
          "height": 34
        }
      },
      "source": [
        "#### Random numbers\n",
        "np.random.randint(10,100)"
      ],
      "execution_count": 0,
      "outputs": [
        {
          "output_type": "execute_result",
          "data": {
            "text/plain": [
              "51"
            ]
          },
          "metadata": {
            "tags": []
          },
          "execution_count": 64
        }
      ]
    },
    {
      "cell_type": "code",
      "metadata": {
        "id": "L1T7WVkwqE8E",
        "colab_type": "code",
        "outputId": "5ab7d8cf-9ed9-4abf-a5ee-4b594612cc0a",
        "colab": {
          "base_uri": "https://localhost:8080/",
          "height": 34
        }
      },
      "source": [
        "#### Random numbers\n",
        "np.random.randint(10,100,10)"
      ],
      "execution_count": 0,
      "outputs": [
        {
          "output_type": "execute_result",
          "data": {
            "text/plain": [
              "array([13, 88, 75, 17, 64, 22, 35, 84, 86, 30])"
            ]
          },
          "metadata": {
            "tags": []
          },
          "execution_count": 67
        }
      ]
    },
    {
      "cell_type": "code",
      "metadata": {
        "id": "IcArq9FFqNbx",
        "colab_type": "code",
        "outputId": "f0a85375-8585-4581-81f4-042c5cb58ac0",
        "colab": {
          "base_uri": "https://localhost:8080/",
          "height": 34
        }
      },
      "source": [
        "#### Random numbers\n",
        "np.random.seed(3)\n",
        "np.random.randint(10,100,10)"
      ],
      "execution_count": 0,
      "outputs": [
        {
          "output_type": "execute_result",
          "data": {
            "text/plain": [
              "array([34, 13, 66, 82, 10, 31, 29, 84, 51, 20])"
            ]
          },
          "metadata": {
            "tags": []
          },
          "execution_count": 75
        }
      ]
    },
    {
      "cell_type": "code",
      "metadata": {
        "id": "bEYrtwbXqip_",
        "colab_type": "code",
        "outputId": "8fea83bb-c424-4f08-c39d-0e49e7496333",
        "colab": {
          "base_uri": "https://localhost:8080/",
          "height": 101
        }
      },
      "source": [
        "#### Random numbers\n",
        "np.random.seed(4)\n",
        "np.random.randint(10,100,(5,5))"
      ],
      "execution_count": 0,
      "outputs": [
        {
          "output_type": "execute_result",
          "data": {
            "text/plain": [
              "array([[56, 65, 79, 11, 97],\n",
              "       [82, 60, 19, 68, 65],\n",
              "       [65, 67, 46, 60, 54],\n",
              "       [48, 62, 13, 10, 65],\n",
              "       [31, 31, 83, 48, 66]])"
            ]
          },
          "metadata": {
            "tags": []
          },
          "execution_count": 77
        }
      ]
    },
    {
      "cell_type": "code",
      "metadata": {
        "id": "m-30_W6srBXr",
        "colab_type": "code",
        "outputId": "03e3148b-9884-4872-82e6-960325af718a",
        "colab": {
          "base_uri": "https://localhost:8080/",
          "height": 50
        }
      },
      "source": [
        "np.random.rand(10)"
      ],
      "execution_count": 0,
      "outputs": [
        {
          "output_type": "execute_result",
          "data": {
            "text/plain": [
              "array([0.04416006, 0.95665297, 0.43614665, 0.94897731, 0.78630599,\n",
              "       0.8662893 , 0.17316542, 0.07494859, 0.60074272, 0.16797218])"
            ]
          },
          "metadata": {
            "tags": []
          },
          "execution_count": 78
        }
      ]
    },
    {
      "cell_type": "code",
      "metadata": {
        "id": "yIQnxTZ2rbQQ",
        "colab_type": "code",
        "outputId": "02d6d392-3c5d-4bb8-c015-d88b313dc915",
        "colab": {
          "base_uri": "https://localhost:8080/",
          "height": 67
        }
      },
      "source": [
        "np.random.random((3,3))"
      ],
      "execution_count": 0,
      "outputs": [
        {
          "output_type": "execute_result",
          "data": {
            "text/plain": [
              "array([[0.73338017, 0.40844386, 0.52790882],\n",
              "       [0.93757158, 0.52169612, 0.10819338],\n",
              "       [0.15822341, 0.54520265, 0.52440408]])"
            ]
          },
          "metadata": {
            "tags": []
          },
          "execution_count": 80
        }
      ]
    },
    {
      "cell_type": "code",
      "metadata": {
        "id": "PnXV0TQirpMJ",
        "colab_type": "code",
        "outputId": "6b8eb6f6-8c59-4c14-f600-a139aa986c22",
        "colab": {
          "base_uri": "https://localhost:8080/",
          "height": 84
        }
      },
      "source": [
        "np.random.randn(4,4)"
      ],
      "execution_count": 0,
      "outputs": [
        {
          "output_type": "execute_result",
          "data": {
            "text/plain": [
              "array([[-0.41830152, -1.58457724, -0.64770677,  0.59857517],\n",
              "       [ 0.33225003, -1.14747663,  0.61866969, -0.08798693],\n",
              "       [ 0.4250724 ,  0.33225315, -1.15681626,  0.35099715],\n",
              "       [-0.60688728,  1.54697933,  0.72334161,  0.04613557]])"
            ]
          },
          "metadata": {
            "tags": []
          },
          "execution_count": 87
        }
      ]
    },
    {
      "cell_type": "code",
      "metadata": {
        "id": "Lpo5cSPPryzV",
        "colab_type": "code",
        "colab": {}
      },
      "source": [
        "np.random.rand(1,100,3)"
      ],
      "execution_count": 0,
      "outputs": []
    },
    {
      "cell_type": "code",
      "metadata": {
        "id": "3lLYvM0os4si",
        "colab_type": "code",
        "colab": {}
      },
      "source": [
        "#### Pandas Basics\n",
        "#### Series / DataFrame"
      ],
      "execution_count": 0,
      "outputs": []
    },
    {
      "cell_type": "code",
      "metadata": {
        "id": "CGaQwpTx4yPL",
        "colab_type": "code",
        "colab": {}
      },
      "source": [
        "#### Series\n",
        "#### It is a kind of array where the index is attached.\n",
        "#### It converts the data into a sequential form\n",
        "#### it can hold data like array,list, tuple and dictionary"
      ],
      "execution_count": 0,
      "outputs": []
    },
    {
      "cell_type": "code",
      "metadata": {
        "id": "N7qyJo-n5lP0",
        "colab_type": "code",
        "colab": {}
      },
      "source": [
        "import pandas as pd"
      ],
      "execution_count": 0,
      "outputs": []
    },
    {
      "cell_type": "code",
      "metadata": {
        "id": "eh7Bx6ls50Bj",
        "colab_type": "code",
        "outputId": "fce49037-4ccf-43b6-973c-14bcefb09ab8",
        "colab": {
          "base_uri": "https://localhost:8080/",
          "height": 118
        }
      },
      "source": [
        "#### Create a series with Pandas\n",
        "marks = [100,80,90,76,95]\n",
        "s1 = pd.Series(marks)\n",
        "s1"
      ],
      "execution_count": 0,
      "outputs": [
        {
          "output_type": "execute_result",
          "data": {
            "text/plain": [
              "0    100\n",
              "1     80\n",
              "2     90\n",
              "3     76\n",
              "4     95\n",
              "dtype: int64"
            ]
          },
          "metadata": {
            "tags": []
          },
          "execution_count": 92
        }
      ]
    },
    {
      "cell_type": "code",
      "metadata": {
        "id": "iw1sU3Eu6Jmg",
        "colab_type": "code",
        "outputId": "8c4db304-4a12-476e-a262-b2587d4c343e",
        "colab": {
          "base_uri": "https://localhost:8080/",
          "height": 118
        }
      },
      "source": [
        "#### Create a series with Pandas\n",
        "marks = (100,80,90,76,95)\n",
        "s1 = pd.Series(marks)\n",
        "s1"
      ],
      "execution_count": 0,
      "outputs": [
        {
          "output_type": "execute_result",
          "data": {
            "text/plain": [
              "0    100\n",
              "1     80\n",
              "2     90\n",
              "3     76\n",
              "4     95\n",
              "dtype: int64"
            ]
          },
          "metadata": {
            "tags": []
          },
          "execution_count": 95
        }
      ]
    },
    {
      "cell_type": "code",
      "metadata": {
        "id": "pqnagvbq6aU_",
        "colab_type": "code",
        "outputId": "1c88f22b-fcc2-4bea-bdaa-cfac74ec5805",
        "colab": {
          "base_uri": "https://localhost:8080/",
          "height": 118
        }
      },
      "source": [
        "#### Create a series with Pandas with custom index\n",
        "marks = (100,80,90,76,95)\n",
        "subjects = [\"Maths\",\"Science\",\"English\",\"Hindi\",\"EVS\"]\n",
        "s2 = pd.Series(marks,index=subjects)\n",
        "s2"
      ],
      "execution_count": 0,
      "outputs": [
        {
          "output_type": "execute_result",
          "data": {
            "text/plain": [
              "Maths      100\n",
              "Science     80\n",
              "English     90\n",
              "Hindi       76\n",
              "EVS         95\n",
              "dtype: int64"
            ]
          },
          "metadata": {
            "tags": []
          },
          "execution_count": 96
        }
      ]
    },
    {
      "cell_type": "code",
      "metadata": {
        "id": "S27A365062gK",
        "colab_type": "code",
        "outputId": "ef98f566-59a9-4c47-e2ef-b3115fc7eacf",
        "colab": {
          "base_uri": "https://localhost:8080/",
          "height": 134
        }
      },
      "source": [
        "### Create series with dictionary\n",
        "dict = {\"Maths\":100,\"IP\":98,\"EVS\":80,\"English\":90,\"Science\":65,\"Drawing\":90}\n",
        "s3 = pd.Series(dict)\n",
        "s3"
      ],
      "execution_count": 0,
      "outputs": [
        {
          "output_type": "execute_result",
          "data": {
            "text/plain": [
              "Maths      100\n",
              "IP          98\n",
              "EVS         80\n",
              "English     90\n",
              "Science     65\n",
              "Drawing     90\n",
              "dtype: int64"
            ]
          },
          "metadata": {
            "tags": []
          },
          "execution_count": 97
        }
      ]
    },
    {
      "cell_type": "code",
      "metadata": {
        "id": "AoVs7bs07nR3",
        "colab_type": "code",
        "outputId": "f3c1c889-3361-490a-fa2b-04a69cf1b291",
        "colab": {
          "base_uri": "https://localhost:8080/",
          "height": 151
        }
      },
      "source": [
        "s4 = s2 + s3\n",
        "s4"
      ],
      "execution_count": 0,
      "outputs": [
        {
          "output_type": "execute_result",
          "data": {
            "text/plain": [
              "Drawing      NaN\n",
              "EVS        175.0\n",
              "English    180.0\n",
              "Hindi        NaN\n",
              "IP           NaN\n",
              "Maths      200.0\n",
              "Science    145.0\n",
              "dtype: float64"
            ]
          },
          "metadata": {
            "tags": []
          },
          "execution_count": 98
        }
      ]
    },
    {
      "cell_type": "code",
      "metadata": {
        "id": "df9Atwqh8A_g",
        "colab_type": "code",
        "outputId": "0d3f9385-f5e8-4991-ccfe-4d541eb1705c",
        "colab": {
          "base_uri": "https://localhost:8080/",
          "height": 118
        }
      },
      "source": [
        "s4.head()"
      ],
      "execution_count": 0,
      "outputs": [
        {
          "output_type": "execute_result",
          "data": {
            "text/plain": [
              "Drawing      NaN\n",
              "EVS        175.0\n",
              "English    180.0\n",
              "Hindi        NaN\n",
              "IP           NaN\n",
              "dtype: float64"
            ]
          },
          "metadata": {
            "tags": []
          },
          "execution_count": 99
        }
      ]
    },
    {
      "cell_type": "code",
      "metadata": {
        "id": "dcheFexA8iZ9",
        "colab_type": "code",
        "outputId": "1f85a17a-fe21-4cc8-fd49-052f11936ad1",
        "colab": {
          "base_uri": "https://localhost:8080/",
          "height": 118
        }
      },
      "source": [
        "s4.tail()"
      ],
      "execution_count": 0,
      "outputs": [
        {
          "output_type": "execute_result",
          "data": {
            "text/plain": [
              "English    180.0\n",
              "Hindi        NaN\n",
              "IP           NaN\n",
              "Maths      200.0\n",
              "Science    145.0\n",
              "dtype: float64"
            ]
          },
          "metadata": {
            "tags": []
          },
          "execution_count": 100
        }
      ]
    },
    {
      "cell_type": "code",
      "metadata": {
        "id": "JSYf-W6H857t",
        "colab_type": "code",
        "outputId": "08e322d7-919f-4698-a89f-be978af43517",
        "colab": {
          "base_uri": "https://localhost:8080/",
          "height": 84
        }
      },
      "source": [
        "s4.head(3)"
      ],
      "execution_count": 0,
      "outputs": [
        {
          "output_type": "execute_result",
          "data": {
            "text/plain": [
              "Drawing      NaN\n",
              "EVS        175.0\n",
              "English    180.0\n",
              "dtype: float64"
            ]
          },
          "metadata": {
            "tags": []
          },
          "execution_count": 101
        }
      ]
    },
    {
      "cell_type": "code",
      "metadata": {
        "id": "oDVy8oWE8_6Z",
        "colab_type": "code",
        "outputId": "c11d81e3-e2b2-40ec-f2a1-36f5dde56c7c",
        "colab": {
          "base_uri": "https://localhost:8080/",
          "height": 84
        }
      },
      "source": [
        "s4.head(-4)"
      ],
      "execution_count": 0,
      "outputs": [
        {
          "output_type": "execute_result",
          "data": {
            "text/plain": [
              "Drawing      NaN\n",
              "EVS        175.0\n",
              "English    180.0\n",
              "dtype: float64"
            ]
          },
          "metadata": {
            "tags": []
          },
          "execution_count": 102
        }
      ]
    },
    {
      "cell_type": "code",
      "metadata": {
        "id": "TB_BMSmf9QFg",
        "colab_type": "code",
        "outputId": "06d2144b-123a-4329-c0a5-c9bef578d3ae",
        "colab": {
          "base_uri": "https://localhost:8080/",
          "height": 151
        }
      },
      "source": [
        "s4.head(100)"
      ],
      "execution_count": 0,
      "outputs": [
        {
          "output_type": "execute_result",
          "data": {
            "text/plain": [
              "Drawing      NaN\n",
              "EVS        175.0\n",
              "English    180.0\n",
              "Hindi        NaN\n",
              "IP           NaN\n",
              "Maths      200.0\n",
              "Science    145.0\n",
              "dtype: float64"
            ]
          },
          "metadata": {
            "tags": []
          },
          "execution_count": 103
        }
      ]
    },
    {
      "cell_type": "code",
      "metadata": {
        "id": "uhnbT2-n9gAT",
        "colab_type": "code",
        "outputId": "b7bed8bf-fd8f-4937-f75e-535e1338d6ed",
        "colab": {
          "base_uri": "https://localhost:8080/",
          "height": 34
        }
      },
      "source": [
        "s4.iloc[1]"
      ],
      "execution_count": 0,
      "outputs": [
        {
          "output_type": "execute_result",
          "data": {
            "text/plain": [
              "175.0"
            ]
          },
          "metadata": {
            "tags": []
          },
          "execution_count": 107
        }
      ]
    },
    {
      "cell_type": "code",
      "metadata": {
        "id": "zXGPkIQa9mVe",
        "colab_type": "code",
        "outputId": "d22354bb-5de4-479c-ec61-856ad9e633b3",
        "colab": {
          "base_uri": "https://localhost:8080/",
          "height": 34
        }
      },
      "source": [
        "s4[\"EVS\"]"
      ],
      "execution_count": 0,
      "outputs": [
        {
          "output_type": "execute_result",
          "data": {
            "text/plain": [
              "175.0"
            ]
          },
          "metadata": {
            "tags": []
          },
          "execution_count": 108
        }
      ]
    },
    {
      "cell_type": "code",
      "metadata": {
        "id": "afoCOPQA9_jS",
        "colab_type": "code",
        "outputId": "1bf79868-dda3-443d-aa69-cae33b39fb3b",
        "colab": {
          "base_uri": "https://localhost:8080/",
          "height": 34
        }
      },
      "source": [
        "s4.loc[\"EVS\"]"
      ],
      "execution_count": 0,
      "outputs": [
        {
          "output_type": "execute_result",
          "data": {
            "text/plain": [
              "175.0"
            ]
          },
          "metadata": {
            "tags": []
          },
          "execution_count": 110
        }
      ]
    },
    {
      "cell_type": "code",
      "metadata": {
        "id": "SCULQFbh-Fq9",
        "colab_type": "code",
        "outputId": "464d38d0-a776-4401-a97e-60ea4a9000fb",
        "colab": {
          "base_uri": "https://localhost:8080/",
          "height": 151
        }
      },
      "source": [
        "s4"
      ],
      "execution_count": 0,
      "outputs": [
        {
          "output_type": "execute_result",
          "data": {
            "text/plain": [
              "Drawing      NaN\n",
              "EVS        175.0\n",
              "English    180.0\n",
              "Hindi        NaN\n",
              "IP           NaN\n",
              "Maths      200.0\n",
              "Science    145.0\n",
              "dtype: float64"
            ]
          },
          "metadata": {
            "tags": []
          },
          "execution_count": 112
        }
      ]
    },
    {
      "cell_type": "code",
      "metadata": {
        "id": "XGP-lCll-QF_",
        "colab_type": "code",
        "outputId": "03686b92-ecb5-4233-b4f2-4522875d4aaa",
        "colab": {
          "base_uri": "https://localhost:8080/",
          "height": 151
        }
      },
      "source": [
        "s4.sort_values()  ## ascending order"
      ],
      "execution_count": 0,
      "outputs": [
        {
          "output_type": "execute_result",
          "data": {
            "text/plain": [
              "Science    145.0\n",
              "EVS        175.0\n",
              "English    180.0\n",
              "Maths      200.0\n",
              "Drawing      NaN\n",
              "Hindi        NaN\n",
              "IP           NaN\n",
              "dtype: float64"
            ]
          },
          "metadata": {
            "tags": []
          },
          "execution_count": 113
        }
      ]
    },
    {
      "cell_type": "code",
      "metadata": {
        "id": "f4HUQLM6-f2j",
        "colab_type": "code",
        "outputId": "01a50fa3-b607-4f09-c077-eab2fc94aa6a",
        "colab": {
          "base_uri": "https://localhost:8080/",
          "height": 151
        }
      },
      "source": [
        "s4.sort_values(ascending=False)  ## descending order"
      ],
      "execution_count": 0,
      "outputs": [
        {
          "output_type": "execute_result",
          "data": {
            "text/plain": [
              "Maths      200.0\n",
              "English    180.0\n",
              "EVS        175.0\n",
              "Science    145.0\n",
              "Drawing      NaN\n",
              "Hindi        NaN\n",
              "IP           NaN\n",
              "dtype: float64"
            ]
          },
          "metadata": {
            "tags": []
          },
          "execution_count": 114
        }
      ]
    },
    {
      "cell_type": "code",
      "metadata": {
        "id": "gs4xpsRs-ps4",
        "colab_type": "code",
        "outputId": "96c747b5-f44d-4135-bc0b-c621f613ba8b",
        "colab": {
          "base_uri": "https://localhost:8080/",
          "height": 151
        }
      },
      "source": [
        "s4.sort_values(ascending=False,na_position=\"first\")  ## descending order"
      ],
      "execution_count": 0,
      "outputs": [
        {
          "output_type": "execute_result",
          "data": {
            "text/plain": [
              "Drawing      NaN\n",
              "Hindi        NaN\n",
              "IP           NaN\n",
              "Maths      200.0\n",
              "English    180.0\n",
              "EVS        175.0\n",
              "Science    145.0\n",
              "dtype: float64"
            ]
          },
          "metadata": {
            "tags": []
          },
          "execution_count": 115
        }
      ]
    },
    {
      "cell_type": "code",
      "metadata": {
        "id": "7i7Bl73Z-2se",
        "colab_type": "code",
        "outputId": "6597929c-6ffd-45ac-ea9e-0d469078c31b",
        "colab": {
          "base_uri": "https://localhost:8080/",
          "height": 151
        }
      },
      "source": [
        "s4.sort_index(ascending=False)  ## descending order"
      ],
      "execution_count": 0,
      "outputs": [
        {
          "output_type": "execute_result",
          "data": {
            "text/plain": [
              "Science    145.0\n",
              "Maths      200.0\n",
              "IP           NaN\n",
              "Hindi        NaN\n",
              "English    180.0\n",
              "EVS        175.0\n",
              "Drawing      NaN\n",
              "dtype: float64"
            ]
          },
          "metadata": {
            "tags": []
          },
          "execution_count": 117
        }
      ]
    },
    {
      "cell_type": "code",
      "metadata": {
        "id": "DAjv0cp3_co1",
        "colab_type": "code",
        "colab": {}
      },
      "source": [
        "##### DataFrame\n",
        "#### Simply a collection of series (More than one series)\n",
        "df = pd.DataFrame(s4)\n",
        "df"
      ],
      "execution_count": 0,
      "outputs": []
    },
    {
      "cell_type": "code",
      "metadata": {
        "id": "i8SLRhoLATwE",
        "colab_type": "code",
        "colab": {}
      },
      "source": [
        "df.reset_index(inplace=True)"
      ],
      "execution_count": 0,
      "outputs": []
    },
    {
      "cell_type": "code",
      "metadata": {
        "id": "DbDs3EC4Awsz",
        "colab_type": "code",
        "outputId": "8e97ad1d-1603-4dd7-aba2-c0166c052543",
        "colab": {
          "base_uri": "https://localhost:8080/",
          "height": 254
        }
      },
      "source": [
        "df"
      ],
      "execution_count": 0,
      "outputs": [
        {
          "output_type": "execute_result",
          "data": {
            "text/html": [
              "<div>\n",
              "<style scoped>\n",
              "    .dataframe tbody tr th:only-of-type {\n",
              "        vertical-align: middle;\n",
              "    }\n",
              "\n",
              "    .dataframe tbody tr th {\n",
              "        vertical-align: top;\n",
              "    }\n",
              "\n",
              "    .dataframe thead th {\n",
              "        text-align: right;\n",
              "    }\n",
              "</style>\n",
              "<table border=\"1\" class=\"dataframe\">\n",
              "  <thead>\n",
              "    <tr style=\"text-align: right;\">\n",
              "      <th></th>\n",
              "      <th>index</th>\n",
              "      <th>0</th>\n",
              "    </tr>\n",
              "  </thead>\n",
              "  <tbody>\n",
              "    <tr>\n",
              "      <th>0</th>\n",
              "      <td>Drawing</td>\n",
              "      <td>NaN</td>\n",
              "    </tr>\n",
              "    <tr>\n",
              "      <th>1</th>\n",
              "      <td>EVS</td>\n",
              "      <td>175.0</td>\n",
              "    </tr>\n",
              "    <tr>\n",
              "      <th>2</th>\n",
              "      <td>English</td>\n",
              "      <td>180.0</td>\n",
              "    </tr>\n",
              "    <tr>\n",
              "      <th>3</th>\n",
              "      <td>Hindi</td>\n",
              "      <td>NaN</td>\n",
              "    </tr>\n",
              "    <tr>\n",
              "      <th>4</th>\n",
              "      <td>IP</td>\n",
              "      <td>NaN</td>\n",
              "    </tr>\n",
              "    <tr>\n",
              "      <th>5</th>\n",
              "      <td>Maths</td>\n",
              "      <td>200.0</td>\n",
              "    </tr>\n",
              "    <tr>\n",
              "      <th>6</th>\n",
              "      <td>Science</td>\n",
              "      <td>145.0</td>\n",
              "    </tr>\n",
              "  </tbody>\n",
              "</table>\n",
              "</div>"
            ],
            "text/plain": [
              "     index      0\n",
              "0  Drawing    NaN\n",
              "1      EVS  175.0\n",
              "2  English  180.0\n",
              "3    Hindi    NaN\n",
              "4       IP    NaN\n",
              "5    Maths  200.0\n",
              "6  Science  145.0"
            ]
          },
          "metadata": {
            "tags": []
          },
          "execution_count": 122
        }
      ]
    },
    {
      "cell_type": "code",
      "metadata": {
        "id": "hKX-VoD8A6jg",
        "colab_type": "code",
        "outputId": "0750e492-f899-441b-e571-02b64a3974e5",
        "colab": {
          "base_uri": "https://localhost:8080/",
          "height": 254
        }
      },
      "source": [
        "df.rename(columns={\"index\":\"Subjects\",0:\"Marks\"},inplace=True)\n",
        "df"
      ],
      "execution_count": 0,
      "outputs": [
        {
          "output_type": "execute_result",
          "data": {
            "text/html": [
              "<div>\n",
              "<style scoped>\n",
              "    .dataframe tbody tr th:only-of-type {\n",
              "        vertical-align: middle;\n",
              "    }\n",
              "\n",
              "    .dataframe tbody tr th {\n",
              "        vertical-align: top;\n",
              "    }\n",
              "\n",
              "    .dataframe thead th {\n",
              "        text-align: right;\n",
              "    }\n",
              "</style>\n",
              "<table border=\"1\" class=\"dataframe\">\n",
              "  <thead>\n",
              "    <tr style=\"text-align: right;\">\n",
              "      <th></th>\n",
              "      <th>Subjects</th>\n",
              "      <th>Marks</th>\n",
              "    </tr>\n",
              "  </thead>\n",
              "  <tbody>\n",
              "    <tr>\n",
              "      <th>0</th>\n",
              "      <td>Drawing</td>\n",
              "      <td>NaN</td>\n",
              "    </tr>\n",
              "    <tr>\n",
              "      <th>1</th>\n",
              "      <td>EVS</td>\n",
              "      <td>175.0</td>\n",
              "    </tr>\n",
              "    <tr>\n",
              "      <th>2</th>\n",
              "      <td>English</td>\n",
              "      <td>180.0</td>\n",
              "    </tr>\n",
              "    <tr>\n",
              "      <th>3</th>\n",
              "      <td>Hindi</td>\n",
              "      <td>NaN</td>\n",
              "    </tr>\n",
              "    <tr>\n",
              "      <th>4</th>\n",
              "      <td>IP</td>\n",
              "      <td>NaN</td>\n",
              "    </tr>\n",
              "    <tr>\n",
              "      <th>5</th>\n",
              "      <td>Maths</td>\n",
              "      <td>200.0</td>\n",
              "    </tr>\n",
              "    <tr>\n",
              "      <th>6</th>\n",
              "      <td>Science</td>\n",
              "      <td>145.0</td>\n",
              "    </tr>\n",
              "  </tbody>\n",
              "</table>\n",
              "</div>"
            ],
            "text/plain": [
              "  Subjects  Marks\n",
              "0  Drawing    NaN\n",
              "1      EVS  175.0\n",
              "2  English  180.0\n",
              "3    Hindi    NaN\n",
              "4       IP    NaN\n",
              "5    Maths  200.0\n",
              "6  Science  145.0"
            ]
          },
          "metadata": {
            "tags": []
          },
          "execution_count": 123
        }
      ]
    },
    {
      "cell_type": "code",
      "metadata": {
        "id": "j8a06Rl4Cdqd",
        "colab_type": "code",
        "outputId": "d16db5ad-635c-4d77-da0c-dc8c39e63a48",
        "colab": {
          "base_uri": "https://localhost:8080/",
          "height": 254
        }
      },
      "source": [
        "df[\"School Name\"] = \"DPS Delhi\"\n",
        "df"
      ],
      "execution_count": 0,
      "outputs": [
        {
          "output_type": "execute_result",
          "data": {
            "text/html": [
              "<div>\n",
              "<style scoped>\n",
              "    .dataframe tbody tr th:only-of-type {\n",
              "        vertical-align: middle;\n",
              "    }\n",
              "\n",
              "    .dataframe tbody tr th {\n",
              "        vertical-align: top;\n",
              "    }\n",
              "\n",
              "    .dataframe thead th {\n",
              "        text-align: right;\n",
              "    }\n",
              "</style>\n",
              "<table border=\"1\" class=\"dataframe\">\n",
              "  <thead>\n",
              "    <tr style=\"text-align: right;\">\n",
              "      <th></th>\n",
              "      <th>Subjects</th>\n",
              "      <th>Marks</th>\n",
              "      <th>School Name</th>\n",
              "    </tr>\n",
              "  </thead>\n",
              "  <tbody>\n",
              "    <tr>\n",
              "      <th>0</th>\n",
              "      <td>Drawing</td>\n",
              "      <td>NaN</td>\n",
              "      <td>DPS Delhi</td>\n",
              "    </tr>\n",
              "    <tr>\n",
              "      <th>1</th>\n",
              "      <td>EVS</td>\n",
              "      <td>175.0</td>\n",
              "      <td>DPS Delhi</td>\n",
              "    </tr>\n",
              "    <tr>\n",
              "      <th>2</th>\n",
              "      <td>English</td>\n",
              "      <td>180.0</td>\n",
              "      <td>DPS Delhi</td>\n",
              "    </tr>\n",
              "    <tr>\n",
              "      <th>3</th>\n",
              "      <td>Hindi</td>\n",
              "      <td>NaN</td>\n",
              "      <td>DPS Delhi</td>\n",
              "    </tr>\n",
              "    <tr>\n",
              "      <th>4</th>\n",
              "      <td>IP</td>\n",
              "      <td>NaN</td>\n",
              "      <td>DPS Delhi</td>\n",
              "    </tr>\n",
              "    <tr>\n",
              "      <th>5</th>\n",
              "      <td>Maths</td>\n",
              "      <td>200.0</td>\n",
              "      <td>DPS Delhi</td>\n",
              "    </tr>\n",
              "    <tr>\n",
              "      <th>6</th>\n",
              "      <td>Science</td>\n",
              "      <td>145.0</td>\n",
              "      <td>DPS Delhi</td>\n",
              "    </tr>\n",
              "  </tbody>\n",
              "</table>\n",
              "</div>"
            ],
            "text/plain": [
              "  Subjects  Marks School Name\n",
              "0  Drawing    NaN   DPS Delhi\n",
              "1      EVS  175.0   DPS Delhi\n",
              "2  English  180.0   DPS Delhi\n",
              "3    Hindi    NaN   DPS Delhi\n",
              "4       IP    NaN   DPS Delhi\n",
              "5    Maths  200.0   DPS Delhi\n",
              "6  Science  145.0   DPS Delhi"
            ]
          },
          "metadata": {
            "tags": []
          },
          "execution_count": 124
        }
      ]
    },
    {
      "cell_type": "code",
      "metadata": {
        "id": "NEOkLnatDAWA",
        "colab_type": "code",
        "colab": {}
      },
      "source": [
        "teacher = [\"Mr X\",\"Mr Y\",\"Mr Z\",\"Mr D\",\"Mr C\",\"Mr B\",\"Mr A\"]\n",
        "df[\"Teacher Name\"] = teacher"
      ],
      "execution_count": 0,
      "outputs": []
    },
    {
      "cell_type": "code",
      "metadata": {
        "id": "WQRG1iQODpur",
        "colab_type": "code",
        "outputId": "b526255c-a16e-4c1a-f9eb-d600ceb07401",
        "colab": {
          "base_uri": "https://localhost:8080/",
          "height": 254
        }
      },
      "source": [
        "df"
      ],
      "execution_count": 0,
      "outputs": [
        {
          "output_type": "execute_result",
          "data": {
            "text/html": [
              "<div>\n",
              "<style scoped>\n",
              "    .dataframe tbody tr th:only-of-type {\n",
              "        vertical-align: middle;\n",
              "    }\n",
              "\n",
              "    .dataframe tbody tr th {\n",
              "        vertical-align: top;\n",
              "    }\n",
              "\n",
              "    .dataframe thead th {\n",
              "        text-align: right;\n",
              "    }\n",
              "</style>\n",
              "<table border=\"1\" class=\"dataframe\">\n",
              "  <thead>\n",
              "    <tr style=\"text-align: right;\">\n",
              "      <th></th>\n",
              "      <th>Subjects</th>\n",
              "      <th>Marks</th>\n",
              "      <th>School Name</th>\n",
              "      <th>Teacher Name</th>\n",
              "    </tr>\n",
              "  </thead>\n",
              "  <tbody>\n",
              "    <tr>\n",
              "      <th>0</th>\n",
              "      <td>Drawing</td>\n",
              "      <td>NaN</td>\n",
              "      <td>DPS Delhi</td>\n",
              "      <td>Mr X</td>\n",
              "    </tr>\n",
              "    <tr>\n",
              "      <th>1</th>\n",
              "      <td>EVS</td>\n",
              "      <td>175.0</td>\n",
              "      <td>DPS Delhi</td>\n",
              "      <td>Mr Y</td>\n",
              "    </tr>\n",
              "    <tr>\n",
              "      <th>2</th>\n",
              "      <td>English</td>\n",
              "      <td>180.0</td>\n",
              "      <td>DPS Delhi</td>\n",
              "      <td>Mr Z</td>\n",
              "    </tr>\n",
              "    <tr>\n",
              "      <th>3</th>\n",
              "      <td>Hindi</td>\n",
              "      <td>NaN</td>\n",
              "      <td>DPS Delhi</td>\n",
              "      <td>Mr D</td>\n",
              "    </tr>\n",
              "    <tr>\n",
              "      <th>4</th>\n",
              "      <td>IP</td>\n",
              "      <td>NaN</td>\n",
              "      <td>DPS Delhi</td>\n",
              "      <td>Mr C</td>\n",
              "    </tr>\n",
              "    <tr>\n",
              "      <th>5</th>\n",
              "      <td>Maths</td>\n",
              "      <td>200.0</td>\n",
              "      <td>DPS Delhi</td>\n",
              "      <td>Mr B</td>\n",
              "    </tr>\n",
              "    <tr>\n",
              "      <th>6</th>\n",
              "      <td>Science</td>\n",
              "      <td>145.0</td>\n",
              "      <td>DPS Delhi</td>\n",
              "      <td>Mr A</td>\n",
              "    </tr>\n",
              "  </tbody>\n",
              "</table>\n",
              "</div>"
            ],
            "text/plain": [
              "  Subjects  Marks School Name Teacher Name\n",
              "0  Drawing    NaN   DPS Delhi         Mr X\n",
              "1      EVS  175.0   DPS Delhi         Mr Y\n",
              "2  English  180.0   DPS Delhi         Mr Z\n",
              "3    Hindi    NaN   DPS Delhi         Mr D\n",
              "4       IP    NaN   DPS Delhi         Mr C\n",
              "5    Maths  200.0   DPS Delhi         Mr B\n",
              "6  Science  145.0   DPS Delhi         Mr A"
            ]
          },
          "metadata": {
            "tags": []
          },
          "execution_count": 126
        }
      ]
    },
    {
      "cell_type": "code",
      "metadata": {
        "id": "A5zmZ8WODq-C",
        "colab_type": "code",
        "colab": {}
      },
      "source": [
        "df[[\"Subjects\",\"Marks\"]]"
      ],
      "execution_count": 0,
      "outputs": []
    },
    {
      "cell_type": "code",
      "metadata": {
        "id": "zZt_J3KHEAvS",
        "colab_type": "code",
        "outputId": "81529c4f-c999-4cf9-e69d-32895e66fbc5",
        "colab": {
          "base_uri": "https://localhost:8080/",
          "height": 34
        }
      },
      "source": [
        "df['Marks'].mean()"
      ],
      "execution_count": 0,
      "outputs": [
        {
          "output_type": "execute_result",
          "data": {
            "text/plain": [
              "175.0"
            ]
          },
          "metadata": {
            "tags": []
          },
          "execution_count": 128
        }
      ]
    },
    {
      "cell_type": "code",
      "metadata": {
        "id": "JGtR-cKSEiuA",
        "colab_type": "code",
        "outputId": "2679e4f2-593c-46b2-c71b-5d2b55c56dd7",
        "colab": {
          "base_uri": "https://localhost:8080/",
          "height": 254
        }
      },
      "source": [
        "df[\"Marks\"] = df[\"Marks\"].fillna(80)\n",
        "df"
      ],
      "execution_count": 0,
      "outputs": [
        {
          "output_type": "execute_result",
          "data": {
            "text/html": [
              "<div>\n",
              "<style scoped>\n",
              "    .dataframe tbody tr th:only-of-type {\n",
              "        vertical-align: middle;\n",
              "    }\n",
              "\n",
              "    .dataframe tbody tr th {\n",
              "        vertical-align: top;\n",
              "    }\n",
              "\n",
              "    .dataframe thead th {\n",
              "        text-align: right;\n",
              "    }\n",
              "</style>\n",
              "<table border=\"1\" class=\"dataframe\">\n",
              "  <thead>\n",
              "    <tr style=\"text-align: right;\">\n",
              "      <th></th>\n",
              "      <th>Subjects</th>\n",
              "      <th>Marks</th>\n",
              "      <th>School Name</th>\n",
              "      <th>Teacher Name</th>\n",
              "    </tr>\n",
              "  </thead>\n",
              "  <tbody>\n",
              "    <tr>\n",
              "      <th>0</th>\n",
              "      <td>Drawing</td>\n",
              "      <td>80.0</td>\n",
              "      <td>DPS Delhi</td>\n",
              "      <td>Mr X</td>\n",
              "    </tr>\n",
              "    <tr>\n",
              "      <th>1</th>\n",
              "      <td>EVS</td>\n",
              "      <td>175.0</td>\n",
              "      <td>DPS Delhi</td>\n",
              "      <td>Mr Y</td>\n",
              "    </tr>\n",
              "    <tr>\n",
              "      <th>2</th>\n",
              "      <td>English</td>\n",
              "      <td>180.0</td>\n",
              "      <td>DPS Delhi</td>\n",
              "      <td>Mr Z</td>\n",
              "    </tr>\n",
              "    <tr>\n",
              "      <th>3</th>\n",
              "      <td>Hindi</td>\n",
              "      <td>80.0</td>\n",
              "      <td>DPS Delhi</td>\n",
              "      <td>Mr D</td>\n",
              "    </tr>\n",
              "    <tr>\n",
              "      <th>4</th>\n",
              "      <td>IP</td>\n",
              "      <td>80.0</td>\n",
              "      <td>DPS Delhi</td>\n",
              "      <td>Mr C</td>\n",
              "    </tr>\n",
              "    <tr>\n",
              "      <th>5</th>\n",
              "      <td>Maths</td>\n",
              "      <td>200.0</td>\n",
              "      <td>DPS Delhi</td>\n",
              "      <td>Mr B</td>\n",
              "    </tr>\n",
              "    <tr>\n",
              "      <th>6</th>\n",
              "      <td>Science</td>\n",
              "      <td>145.0</td>\n",
              "      <td>DPS Delhi</td>\n",
              "      <td>Mr A</td>\n",
              "    </tr>\n",
              "  </tbody>\n",
              "</table>\n",
              "</div>"
            ],
            "text/plain": [
              "  Subjects  Marks School Name Teacher Name\n",
              "0  Drawing   80.0   DPS Delhi         Mr X\n",
              "1      EVS  175.0   DPS Delhi         Mr Y\n",
              "2  English  180.0   DPS Delhi         Mr Z\n",
              "3    Hindi   80.0   DPS Delhi         Mr D\n",
              "4       IP   80.0   DPS Delhi         Mr C\n",
              "5    Maths  200.0   DPS Delhi         Mr B\n",
              "6  Science  145.0   DPS Delhi         Mr A"
            ]
          },
          "metadata": {
            "tags": []
          },
          "execution_count": 129
        }
      ]
    },
    {
      "cell_type": "code",
      "metadata": {
        "id": "HeU2z4TqF0Yw",
        "colab_type": "code",
        "outputId": "9fa803ae-77f9-4f91-9b10-a6d1bf5eaedf",
        "colab": {
          "base_uri": "https://localhost:8080/",
          "height": 34
        }
      },
      "source": [
        "df.iloc[2]['Marks']"
      ],
      "execution_count": 0,
      "outputs": [
        {
          "output_type": "execute_result",
          "data": {
            "text/plain": [
              "180.0"
            ]
          },
          "metadata": {
            "tags": []
          },
          "execution_count": 132
        }
      ]
    },
    {
      "cell_type": "code",
      "metadata": {
        "id": "tcRSmzLHEzyp",
        "colab_type": "code",
        "colab": {}
      },
      "source": [
        "grade = []\n",
        "for i in range(0,len(df)):\n",
        "  marks = df.iloc[i]['Marks']\n",
        "  if marks > 100:\n",
        "    grade.append(\"A\")\n",
        "  else:\n",
        "    grade.append(\"B\")"
      ],
      "execution_count": 0,
      "outputs": []
    },
    {
      "cell_type": "code",
      "metadata": {
        "id": "HFtbOaxeGcOI",
        "colab_type": "code",
        "outputId": "37f77d64-b31a-4fce-ef2f-13689b98fe06",
        "colab": {
          "base_uri": "https://localhost:8080/",
          "height": 254
        }
      },
      "source": [
        "df['Grade'] = grade\n",
        "df"
      ],
      "execution_count": 0,
      "outputs": [
        {
          "output_type": "execute_result",
          "data": {
            "text/html": [
              "<div>\n",
              "<style scoped>\n",
              "    .dataframe tbody tr th:only-of-type {\n",
              "        vertical-align: middle;\n",
              "    }\n",
              "\n",
              "    .dataframe tbody tr th {\n",
              "        vertical-align: top;\n",
              "    }\n",
              "\n",
              "    .dataframe thead th {\n",
              "        text-align: right;\n",
              "    }\n",
              "</style>\n",
              "<table border=\"1\" class=\"dataframe\">\n",
              "  <thead>\n",
              "    <tr style=\"text-align: right;\">\n",
              "      <th></th>\n",
              "      <th>Subjects</th>\n",
              "      <th>Marks</th>\n",
              "      <th>School Name</th>\n",
              "      <th>Teacher Name</th>\n",
              "      <th>Grade</th>\n",
              "    </tr>\n",
              "  </thead>\n",
              "  <tbody>\n",
              "    <tr>\n",
              "      <th>0</th>\n",
              "      <td>Drawing</td>\n",
              "      <td>80.0</td>\n",
              "      <td>DPS Delhi</td>\n",
              "      <td>Mr X</td>\n",
              "      <td>B</td>\n",
              "    </tr>\n",
              "    <tr>\n",
              "      <th>1</th>\n",
              "      <td>EVS</td>\n",
              "      <td>175.0</td>\n",
              "      <td>DPS Delhi</td>\n",
              "      <td>Mr Y</td>\n",
              "      <td>A</td>\n",
              "    </tr>\n",
              "    <tr>\n",
              "      <th>2</th>\n",
              "      <td>English</td>\n",
              "      <td>180.0</td>\n",
              "      <td>DPS Delhi</td>\n",
              "      <td>Mr Z</td>\n",
              "      <td>A</td>\n",
              "    </tr>\n",
              "    <tr>\n",
              "      <th>3</th>\n",
              "      <td>Hindi</td>\n",
              "      <td>80.0</td>\n",
              "      <td>DPS Delhi</td>\n",
              "      <td>Mr D</td>\n",
              "      <td>B</td>\n",
              "    </tr>\n",
              "    <tr>\n",
              "      <th>4</th>\n",
              "      <td>IP</td>\n",
              "      <td>80.0</td>\n",
              "      <td>DPS Delhi</td>\n",
              "      <td>Mr C</td>\n",
              "      <td>B</td>\n",
              "    </tr>\n",
              "    <tr>\n",
              "      <th>5</th>\n",
              "      <td>Maths</td>\n",
              "      <td>200.0</td>\n",
              "      <td>DPS Delhi</td>\n",
              "      <td>Mr B</td>\n",
              "      <td>A</td>\n",
              "    </tr>\n",
              "    <tr>\n",
              "      <th>6</th>\n",
              "      <td>Science</td>\n",
              "      <td>145.0</td>\n",
              "      <td>DPS Delhi</td>\n",
              "      <td>Mr A</td>\n",
              "      <td>A</td>\n",
              "    </tr>\n",
              "  </tbody>\n",
              "</table>\n",
              "</div>"
            ],
            "text/plain": [
              "  Subjects  Marks School Name Teacher Name Grade\n",
              "0  Drawing   80.0   DPS Delhi         Mr X     B\n",
              "1      EVS  175.0   DPS Delhi         Mr Y     A\n",
              "2  English  180.0   DPS Delhi         Mr Z     A\n",
              "3    Hindi   80.0   DPS Delhi         Mr D     B\n",
              "4       IP   80.0   DPS Delhi         Mr C     B\n",
              "5    Maths  200.0   DPS Delhi         Mr B     A\n",
              "6  Science  145.0   DPS Delhi         Mr A     A"
            ]
          },
          "metadata": {
            "tags": []
          },
          "execution_count": 134
        }
      ]
    },
    {
      "cell_type": "code",
      "metadata": {
        "id": "cfbmhGF4GgLX",
        "colab_type": "code",
        "outputId": "a6a3dd2e-5c7e-4b26-9d93-95577c438688",
        "colab": {
          "base_uri": "https://localhost:8080/",
          "height": 254
        }
      },
      "source": [
        "#### Sort Data\n",
        "df.sort_values(\"Marks\",ascending=False,inplace=True)\n",
        "df"
      ],
      "execution_count": 0,
      "outputs": [
        {
          "output_type": "execute_result",
          "data": {
            "text/html": [
              "<div>\n",
              "<style scoped>\n",
              "    .dataframe tbody tr th:only-of-type {\n",
              "        vertical-align: middle;\n",
              "    }\n",
              "\n",
              "    .dataframe tbody tr th {\n",
              "        vertical-align: top;\n",
              "    }\n",
              "\n",
              "    .dataframe thead th {\n",
              "        text-align: right;\n",
              "    }\n",
              "</style>\n",
              "<table border=\"1\" class=\"dataframe\">\n",
              "  <thead>\n",
              "    <tr style=\"text-align: right;\">\n",
              "      <th></th>\n",
              "      <th>Subjects</th>\n",
              "      <th>Marks</th>\n",
              "      <th>School Name</th>\n",
              "      <th>Teacher Name</th>\n",
              "      <th>Grade</th>\n",
              "    </tr>\n",
              "  </thead>\n",
              "  <tbody>\n",
              "    <tr>\n",
              "      <th>5</th>\n",
              "      <td>Maths</td>\n",
              "      <td>200.0</td>\n",
              "      <td>DPS Delhi</td>\n",
              "      <td>Mr B</td>\n",
              "      <td>A</td>\n",
              "    </tr>\n",
              "    <tr>\n",
              "      <th>2</th>\n",
              "      <td>English</td>\n",
              "      <td>180.0</td>\n",
              "      <td>DPS Delhi</td>\n",
              "      <td>Mr Z</td>\n",
              "      <td>A</td>\n",
              "    </tr>\n",
              "    <tr>\n",
              "      <th>1</th>\n",
              "      <td>EVS</td>\n",
              "      <td>175.0</td>\n",
              "      <td>DPS Delhi</td>\n",
              "      <td>Mr Y</td>\n",
              "      <td>A</td>\n",
              "    </tr>\n",
              "    <tr>\n",
              "      <th>6</th>\n",
              "      <td>Science</td>\n",
              "      <td>145.0</td>\n",
              "      <td>DPS Delhi</td>\n",
              "      <td>Mr A</td>\n",
              "      <td>A</td>\n",
              "    </tr>\n",
              "    <tr>\n",
              "      <th>0</th>\n",
              "      <td>Drawing</td>\n",
              "      <td>80.0</td>\n",
              "      <td>DPS Delhi</td>\n",
              "      <td>Mr X</td>\n",
              "      <td>B</td>\n",
              "    </tr>\n",
              "    <tr>\n",
              "      <th>3</th>\n",
              "      <td>Hindi</td>\n",
              "      <td>80.0</td>\n",
              "      <td>DPS Delhi</td>\n",
              "      <td>Mr D</td>\n",
              "      <td>B</td>\n",
              "    </tr>\n",
              "    <tr>\n",
              "      <th>4</th>\n",
              "      <td>IP</td>\n",
              "      <td>80.0</td>\n",
              "      <td>DPS Delhi</td>\n",
              "      <td>Mr C</td>\n",
              "      <td>B</td>\n",
              "    </tr>\n",
              "  </tbody>\n",
              "</table>\n",
              "</div>"
            ],
            "text/plain": [
              "  Subjects  Marks School Name Teacher Name Grade\n",
              "5    Maths  200.0   DPS Delhi         Mr B     A\n",
              "2  English  180.0   DPS Delhi         Mr Z     A\n",
              "1      EVS  175.0   DPS Delhi         Mr Y     A\n",
              "6  Science  145.0   DPS Delhi         Mr A     A\n",
              "0  Drawing   80.0   DPS Delhi         Mr X     B\n",
              "3    Hindi   80.0   DPS Delhi         Mr D     B\n",
              "4       IP   80.0   DPS Delhi         Mr C     B"
            ]
          },
          "metadata": {
            "tags": []
          },
          "execution_count": 136
        }
      ]
    },
    {
      "cell_type": "code",
      "metadata": {
        "id": "iAjr-UB5Hqxe",
        "colab_type": "code",
        "colab": {}
      },
      "source": [
        "df.reset_index(inplace=True)"
      ],
      "execution_count": 0,
      "outputs": []
    },
    {
      "cell_type": "code",
      "metadata": {
        "id": "BnNxNH0jIA-P",
        "colab_type": "code",
        "outputId": "ac1b8c2b-534b-43a5-fb78-b9a4178fe0ce",
        "colab": {
          "base_uri": "https://localhost:8080/",
          "height": 254
        }
      },
      "source": [
        "df.drop([\"index\"],axis=1)"
      ],
      "execution_count": 0,
      "outputs": [
        {
          "output_type": "execute_result",
          "data": {
            "text/html": [
              "<div>\n",
              "<style scoped>\n",
              "    .dataframe tbody tr th:only-of-type {\n",
              "        vertical-align: middle;\n",
              "    }\n",
              "\n",
              "    .dataframe tbody tr th {\n",
              "        vertical-align: top;\n",
              "    }\n",
              "\n",
              "    .dataframe thead th {\n",
              "        text-align: right;\n",
              "    }\n",
              "</style>\n",
              "<table border=\"1\" class=\"dataframe\">\n",
              "  <thead>\n",
              "    <tr style=\"text-align: right;\">\n",
              "      <th></th>\n",
              "      <th>index</th>\n",
              "      <th>Subjects</th>\n",
              "      <th>Marks</th>\n",
              "      <th>School Name</th>\n",
              "      <th>Teacher Name</th>\n",
              "      <th>Grade</th>\n",
              "    </tr>\n",
              "  </thead>\n",
              "  <tbody>\n",
              "    <tr>\n",
              "      <th>0</th>\n",
              "      <td>5</td>\n",
              "      <td>Maths</td>\n",
              "      <td>200.0</td>\n",
              "      <td>DPS Delhi</td>\n",
              "      <td>Mr B</td>\n",
              "      <td>A</td>\n",
              "    </tr>\n",
              "    <tr>\n",
              "      <th>1</th>\n",
              "      <td>2</td>\n",
              "      <td>English</td>\n",
              "      <td>180.0</td>\n",
              "      <td>DPS Delhi</td>\n",
              "      <td>Mr Z</td>\n",
              "      <td>A</td>\n",
              "    </tr>\n",
              "    <tr>\n",
              "      <th>2</th>\n",
              "      <td>1</td>\n",
              "      <td>EVS</td>\n",
              "      <td>175.0</td>\n",
              "      <td>DPS Delhi</td>\n",
              "      <td>Mr Y</td>\n",
              "      <td>A</td>\n",
              "    </tr>\n",
              "    <tr>\n",
              "      <th>3</th>\n",
              "      <td>6</td>\n",
              "      <td>Science</td>\n",
              "      <td>145.0</td>\n",
              "      <td>DPS Delhi</td>\n",
              "      <td>Mr A</td>\n",
              "      <td>A</td>\n",
              "    </tr>\n",
              "    <tr>\n",
              "      <th>4</th>\n",
              "      <td>0</td>\n",
              "      <td>Drawing</td>\n",
              "      <td>80.0</td>\n",
              "      <td>DPS Delhi</td>\n",
              "      <td>Mr X</td>\n",
              "      <td>B</td>\n",
              "    </tr>\n",
              "    <tr>\n",
              "      <th>5</th>\n",
              "      <td>3</td>\n",
              "      <td>Hindi</td>\n",
              "      <td>80.0</td>\n",
              "      <td>DPS Delhi</td>\n",
              "      <td>Mr D</td>\n",
              "      <td>B</td>\n",
              "    </tr>\n",
              "    <tr>\n",
              "      <th>6</th>\n",
              "      <td>4</td>\n",
              "      <td>IP</td>\n",
              "      <td>80.0</td>\n",
              "      <td>DPS Delhi</td>\n",
              "      <td>Mr C</td>\n",
              "      <td>B</td>\n",
              "    </tr>\n",
              "  </tbody>\n",
              "</table>\n",
              "</div>"
            ],
            "text/plain": [
              "   index Subjects  Marks School Name Teacher Name Grade\n",
              "0      5    Maths  200.0   DPS Delhi         Mr B     A\n",
              "1      2  English  180.0   DPS Delhi         Mr Z     A\n",
              "2      1      EVS  175.0   DPS Delhi         Mr Y     A\n",
              "3      6  Science  145.0   DPS Delhi         Mr A     A\n",
              "4      0  Drawing   80.0   DPS Delhi         Mr X     B\n",
              "5      3    Hindi   80.0   DPS Delhi         Mr D     B\n",
              "6      4       IP   80.0   DPS Delhi         Mr C     B"
            ]
          },
          "metadata": {
            "tags": []
          },
          "execution_count": 138
        }
      ]
    },
    {
      "cell_type": "code",
      "metadata": {
        "id": "tjpCMfIgICux",
        "colab_type": "code",
        "colab": {}
      },
      "source": [
        ""
      ],
      "execution_count": 0,
      "outputs": []
    }
  ]
}